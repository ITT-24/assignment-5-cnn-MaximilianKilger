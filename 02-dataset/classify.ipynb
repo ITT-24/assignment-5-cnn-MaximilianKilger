{
 "cells": [
  {
   "cell_type": "code",
   "execution_count": 15,
   "metadata": {},
   "outputs": [],
   "source": [
    "from keras.models import load_model\n",
    "from keras.utils import to_categorical\n",
    "import json\n",
    "import sys\n",
    "import numpy as np\n",
    "import os\n",
    "from tqdm import tqdm\n",
    "import cv2\n",
    "import matplotlib.pyplot as plt\n",
    "\n",
    "# import confusion matrix helper function\n",
    "from sklearn.metrics import confusion_matrix, ConfusionMatrixDisplay"
   ]
  },
  {
   "cell_type": "code",
   "execution_count": 16,
   "metadata": {},
   "outputs": [],
   "source": [
    "annotations = None\n",
    "with open('annot-max.json') as f:\n",
    "    annotations=json.load(f)"
   ]
  },
  {
   "cell_type": "code",
   "execution_count": 17,
   "metadata": {},
   "outputs": [
    {
     "data": {
      "text/plain": [
       "{'like1': {'bboxes': [[0.3296875,\n",
       "    0.5333333333333333,\n",
       "    0.11875,\n",
       "    0.2611111111111111]],\n",
       "  'labels': ['like']},\n",
       " 'like2': {'bboxes': [[0.415625, 0.9111111111111111, 0.134375, -0.25]],\n",
       "  'labels': ['like']},\n",
       " 'like3': {'bboxes': [[0.41875,\n",
       "    0.4861111111111111,\n",
       "    -0.1078125,\n",
       "    -0.2611111111111111]],\n",
       "  'labels': ['like']},\n",
       " 'dislike1': {'bboxes': [[0.465625,\n",
       "    0.44722222222222224,\n",
       "    -0.0875,\n",
       "    0.2722222222222222]],\n",
       "  'labels': ['dislike']},\n",
       " 'dislike2': {'bboxes': [[0.3328125, 0.65, 0.121875, -0.39166666666666666]],\n",
       "  'labels': ['dislike']},\n",
       " 'dislike3': {'bboxes': [[0.38125,\n",
       "    0.5916666666666667,\n",
       "    0.1078125,\n",
       "    -0.31666666666666665]],\n",
       "  'labels': ['dislike']},\n",
       " 'peace1': {'bboxes': [[0.359375, 0.3111111111111111, -0.15625, 0.375]],\n",
       "  'labels': ['peace']},\n",
       " 'peace2': {'bboxes': [[0.2390625, 0.6, 0.14375, -0.3055555555555556]],\n",
       "  'labels': ['peace']},\n",
       " 'peace3': {'bboxes': [[0.3015625, 0.8333333333333334, 0.128125, -0.325]],\n",
       "  'labels': ['peace']},\n",
       " 'rock1': {'bboxes': [[0.2484375,\n",
       "    0.7055555555555556,\n",
       "    0.165625,\n",
       "    -0.3388888888888889]],\n",
       "  'labels': ['rock']},\n",
       " 'rock2': {'bboxes': [[0.2671875,\n",
       "    0.48333333333333334,\n",
       "    0.1625,\n",
       "    -0.2916666666666667]],\n",
       "  'labels': ['rock']},\n",
       " 'rock3': {'bboxes': [[0.2484375,\n",
       "    0.6166666666666667,\n",
       "    0.134375,\n",
       "    -0.3388888888888889]],\n",
       "  'labels': ['rock']},\n",
       " 'stop1': {'bboxes': [[0.1921875, 0.7277777777777777, 0.2359375, -0.575]],\n",
       "  'labels': ['stop']},\n",
       " 'stop2': {'bboxes': [[0.4234375, 0.35555555555555557, -0.140625, 0.375]],\n",
       "  'labels': ['stop']},\n",
       " 'stop3': {'bboxes': [[0.4484375,\n",
       "    0.24166666666666667,\n",
       "    -0.209375,\n",
       "    0.5805555555555556]],\n",
       "  'labels': ['stop']}}"
      ]
     },
     "execution_count": 17,
     "metadata": {},
     "output_type": "execute_result"
    }
   ],
   "source": [
    "annotations"
   ]
  },
  {
   "cell_type": "code",
   "execution_count": 28,
   "metadata": {},
   "outputs": [
    {
     "name": "stderr",
     "output_type": "stream",
     "text": [
      " 19%|█▉        | 3/16 [00:00<00:00, 28.20it/s]"
     ]
    },
    {
     "name": "stdout",
     "output_type": "stream",
     "text": [
      "dislike1.jpg\n",
      "[[0.465625, 0.44722222222222224, -0.0875, 0.2722222222222222]]\n",
      "(294, 168, 3)\n",
      "dislike2.jpg\n",
      "[[0.3328125, 0.65, 0.121875, -0.39166666666666666]]\n",
      "(423, 234, 3)\n",
      "dislike3.jpg\n",
      "[[0.38125, 0.5916666666666667, 0.1078125, -0.31666666666666665]]\n",
      "(342, 207, 3)\n",
      "gesture_detection.ipynb\n",
      "Error\n",
      "like1.jpg\n",
      "[[0.3296875, 0.5333333333333333, 0.11875, 0.2611111111111111]]\n",
      "(282, 228, 3)\n",
      "like2.jpg\n",
      "[[0.415625, 0.9111111111111111, 0.134375, -0.25]]\n",
      "(270, 258, 3)\n",
      "like3.jpg\n",
      "[[0.41875, 0.4861111111111111, -0.1078125, -0.2611111111111111]]\n",
      "(282, 207, 3)\n",
      "peace1.jpg\n"
     ]
    },
    {
     "name": "stderr",
     "output_type": "stream",
     "text": [
      " 75%|███████▌  | 12/16 [00:00<00:00, 33.09it/s]"
     ]
    },
    {
     "name": "stdout",
     "output_type": "stream",
     "text": [
      "[[0.359375, 0.3111111111111111, -0.15625, 0.375]]\n",
      "(405, 300, 3)\n",
      "peace2.jpg\n",
      "[[0.2390625, 0.6, 0.14375, -0.3055555555555556]]\n",
      "(330, 276, 3)\n",
      "peace3.jpg\n",
      "[[0.3015625, 0.8333333333333334, 0.128125, -0.325]]\n",
      "(351, 245, 3)\n",
      "rock1.jpg\n",
      "[[0.2484375, 0.7055555555555556, 0.165625, -0.3388888888888889]]\n",
      "(366, 318, 3)\n",
      "rock2.jpg\n",
      "[[0.2671875, 0.48333333333333334, 0.1625, -0.2916666666666667]]\n",
      "(315, 312, 3)\n",
      "rock3.jpg\n",
      "[[0.2484375, 0.6166666666666667, 0.134375, -0.3388888888888889]]\n",
      "(366, 258, 3)\n",
      "stop1.jpg\n",
      "[[0.1921875, 0.7277777777777777, 0.2359375, -0.575]]\n",
      "(621, 453, 3)\n",
      "stop2.jpg\n"
     ]
    },
    {
     "name": "stderr",
     "output_type": "stream",
     "text": [
      "100%|██████████| 16/16 [00:00<00:00, 34.08it/s]\n"
     ]
    },
    {
     "name": "stdout",
     "output_type": "stream",
     "text": [
      "[[0.4234375, 0.35555555555555557, -0.140625, 0.375]]\n",
      "(405, 270, 3)\n",
      "stop3.jpg\n",
      "[[0.4484375, 0.24166666666666667, -0.209375, 0.5805555555555556]]\n",
      "(627, 402, 3)\n"
     ]
    },
    {
     "data": {
      "image/png": "[encoded data removed]",
      "text/plain": [
       "<Figure size 640x480 with 1 Axes>"
      ]
     },
     "metadata": {},
     "output_type": "display_data"
    }
   ],
   "source": [
    "PATH = \"imgs\"\n",
    "\n",
    "images = []\n",
    "labels = []\n",
    "SIZE = (64,64)\n",
    "label_names = ['like', 'no_gesture', 'stop', 'dislike', 'rock', 'peace']\n",
    "for filename in tqdm(os.listdir(f'{PATH}')):\n",
    "    print(filename)\n",
    "    img = cv2.imread(f'{PATH}/{filename}')\n",
    "    if img is None:\n",
    "        print(\"Error\")\n",
    "        continue\n",
    "    plt.imshow(img)\n",
    "    try:\n",
    "        UID = filename.split('.')[0]\n",
    "        annotation = annotations[UID]\n",
    "    except Exception as e:\n",
    "        print(e)\n",
    "        continue\n",
    "    \n",
    "    print(annotation['bboxes'])\n",
    "    # iterate over all hands annotated in the image\n",
    "    for i, bbox in enumerate(annotation['bboxes']):\n",
    "        # annotated bounding boxes are in the range from 0 to 1\n",
    "        # therefore we have to scale them to the image size\n",
    "        x1 = int(bbox[0] * img.shape[1])\n",
    "        y1 = int(bbox[1] * img.shape[0])\n",
    "        w = int(bbox[2] * img.shape[1])\n",
    "        h = int(bbox[3] * img.shape[0])\n",
    "        x2 = x1 + w\n",
    "        y2 = y1 + h\n",
    "        \n",
    "\n",
    "        # crop image to the bounding box and apply pre-processing\n",
    "        crop = img[min(y1,y2):max(y1,y2), min(x1,x2):max(x1,x2)]\n",
    "        print(crop.shape)\n",
    "        \n",
    "        img_resized = cv2.resize(crop, SIZE)\n",
    "        img_resized = cv2.cvtColor(img_resized, cv2.COLOR_BGR2RGB)\n",
    "        plt.imshow(img_resized)\n",
    "        # get the annotated hand's label\n",
    "        # if we have not seen this label yet, add it to the list of labels\n",
    "        label = annotation['labels'][i]\n",
    "        label_index = label_names.index(label)\n",
    "        \n",
    "        images.append(img_resized)\n",
    "        labels.append(label_index)"
   ]
  },
  {
   "cell_type": "code",
   "execution_count": null,
   "metadata": {},
   "outputs": [],
   "source": []
  },
  {
   "cell_type": "code",
   "execution_count": 29,
   "metadata": {},
   "outputs": [],
   "source": [
    "images = np.array(images).astype('float32')\n",
    "images = images/255\n",
    "images = images.reshape(-1,SIZE[0], SIZE[1], 3)\n",
    "#labels = to_categorical(labels)\n"
   ]
  },
  {
   "cell_type": "code",
   "execution_count": 30,
   "metadata": {},
   "outputs": [],
   "source": [
    "model = load_model(\"gesture_recognition_5_gestures.keras\")"
   ]
  },
  {
   "cell_type": "code",
   "execution_count": 32,
   "metadata": {},
   "outputs": [
    {
     "name": "stdout",
     "output_type": "stream",
     "text": [
      "\u001b[1m1/1\u001b[0m \u001b[32m━━━━━━━━━━━━━━━━━━━━\u001b[0m\u001b[37m\u001b[0m \u001b[1m0s\u001b[0m 33ms/step\n",
      "(15, 64, 64, 3)\n",
      "before [[1.98440148e-07 9.65904444e-03 2.70434852e-09 9.90340531e-01\n",
      "  2.78105494e-09 1.85556331e-07]\n",
      " [1.36368000e-03 1.19710200e-01 3.11552431e-03 8.28431010e-01\n",
      "  1.43393190e-04 4.72362116e-02]\n",
      " [4.44190949e-03 1.85769110e-03 2.51476467e-01 7.72588828e-05\n",
      "  4.05707181e-01 3.36439431e-01]\n",
      " [9.99989629e-01 3.68099654e-06 6.68507528e-06 3.64493852e-12\n",
      "  1.12496075e-10 5.12664444e-09]\n",
      " [9.99999762e-01 2.19187143e-07 6.35508368e-10 3.45192489e-14\n",
      "  2.24400845e-11 2.28060104e-09]\n",
      " [9.95939255e-01 5.80440217e-04 3.42883100e-03 3.62299062e-07\n",
      "  3.25221912e-08 5.11538310e-05]\n",
      " [1.08375616e-01 2.67278543e-03 2.11308263e-02 1.59016447e-04\n",
      "  1.28865000e-02 8.54775250e-01]\n",
      " [3.14467543e-05 5.57624502e-04 1.32686762e-06 8.26531141e-06\n",
      "  6.31067380e-02 9.36294615e-01]\n",
      " [1.39339164e-01 1.19109847e-01 7.86454329e-05 8.51300731e-02\n",
      "  4.00207355e-04 6.55942082e-01]\n",
      " [4.48173028e-04 6.48526102e-02 1.36259268e-03 4.45545232e-03\n",
      "  8.28731775e-01 1.00149341e-01]\n",
      " [1.39978966e-02 8.01087737e-01 3.32210911e-05 4.28496132e-04\n",
      "  1.59579471e-01 2.48732157e-02]\n",
      " [1.32838078e-03 1.60945964e-03 2.62411428e-04 8.33626004e-08\n",
      "  9.96551633e-01 2.48036580e-04]\n",
      " [4.90879643e-07 1.21550954e-07 9.99999285e-01 4.04345057e-10\n",
      "  2.98194698e-11 5.97598699e-08]\n",
      " [5.71958735e-05 2.48028751e-04 9.85309660e-01 1.81388680e-06\n",
      "  5.09177044e-04 1.38741313e-02]\n",
      " [1.73278950e-05 4.89649428e-05 9.99932408e-01 4.41749251e-07\n",
      "  4.65666048e-08 7.84162239e-07]]\n",
      "probabilities [3 3 4 0 0 0 5 5 5 4 1 4 2 2 2]\n",
      "labels [[0. 0. 0. 1. 0. 0.]\n",
      " [0. 0. 0. 1. 0. 0.]\n",
      " [0. 0. 0. 1. 0. 0.]\n",
      " [1. 0. 0. 0. 0. 0.]\n",
      " [1. 0. 0. 0. 0. 0.]\n",
      " [1. 0. 0. 0. 0. 0.]\n",
      " [0. 0. 0. 0. 0. 1.]\n",
      " [0. 0. 0. 0. 0. 1.]\n",
      " [0. 0. 0. 0. 0. 1.]\n",
      " [0. 0. 0. 0. 1. 0.]\n",
      " [0. 0. 0. 0. 1. 0.]\n",
      " [0. 0. 0. 0. 1. 0.]\n",
      " [0. 0. 1. 0. 0. 0.]\n",
      " [0. 0. 1. 0. 0. 0.]\n",
      " [0. 0. 1. 0. 0. 0.]]\n"
     ]
    },
    {
     "ename": "ValueError",
     "evalue": "Classification metrics can't handle a mix of multilabel-indicator and multiclass targets",
     "output_type": "error",
     "traceback": [
      "\u001b[1;31m---------------------------------------------------------------------------\u001b[0m",
      "\u001b[1;31mValueError\u001b[0m                                Traceback (most recent call last)",
      "Cell \u001b[1;32mIn [32], line 16\u001b[0m\n\u001b[0;32m     13\u001b[0m \u001b[38;5;28mprint\u001b[39m(\u001b[38;5;124m'\u001b[39m\u001b[38;5;124mlabels\u001b[39m\u001b[38;5;124m'\u001b[39m, labels)\n\u001b[0;32m     15\u001b[0m \u001b[38;5;66;03m# create and plot confusion matrix\u001b[39;00m\n\u001b[1;32m---> 16\u001b[0m conf_matrix \u001b[38;5;241m=\u001b[39m \u001b[43mconfusion_matrix\u001b[49m\u001b[43m(\u001b[49m\u001b[43mlabels\u001b[49m\u001b[43m,\u001b[49m\u001b[43m \u001b[49m\u001b[43my_predictions\u001b[49m\u001b[43m)\u001b[49m\n\u001b[0;32m     18\u001b[0m fig \u001b[38;5;241m=\u001b[39m plt\u001b[38;5;241m.\u001b[39mfigure(figsize\u001b[38;5;241m=\u001b[39m(\u001b[38;5;241m10\u001b[39m, \u001b[38;5;241m10\u001b[39m))\n\u001b[0;32m     20\u001b[0m ConfusionMatrixDisplay(conf_matrix, display_labels\u001b[38;5;241m=\u001b[39mlabel_names)\u001b[38;5;241m.\u001b[39mplot(ax\u001b[38;5;241m=\u001b[39mplt\u001b[38;5;241m.\u001b[39mgca())\n",
      "File \u001b[1;32mc:\\Users\\Maxim\\AppData\\Local\\Programs\\Python\\Python310\\lib\\site-packages\\sklearn\\metrics\\_classification.py:317\u001b[0m, in \u001b[0;36mconfusion_matrix\u001b[1;34m(y_true, y_pred, labels, sample_weight, normalize)\u001b[0m\n\u001b[0;32m    232\u001b[0m \u001b[38;5;28;01mdef\u001b[39;00m \u001b[38;5;21mconfusion_matrix\u001b[39m(\n\u001b[0;32m    233\u001b[0m     y_true, y_pred, \u001b[38;5;241m*\u001b[39m, labels\u001b[38;5;241m=\u001b[39m\u001b[38;5;28;01mNone\u001b[39;00m, sample_weight\u001b[38;5;241m=\u001b[39m\u001b[38;5;28;01mNone\u001b[39;00m, normalize\u001b[38;5;241m=\u001b[39m\u001b[38;5;28;01mNone\u001b[39;00m\n\u001b[0;32m    234\u001b[0m ):\n\u001b[0;32m    235\u001b[0m     \u001b[38;5;124;03m\"\"\"Compute confusion matrix to evaluate the accuracy of a classification.\u001b[39;00m\n\u001b[0;32m    236\u001b[0m \n\u001b[0;32m    237\u001b[0m \u001b[38;5;124;03m    By definition a confusion matrix :math:`C` is such that :math:`C_{i, j}`\u001b[39;00m\n\u001b[1;32m   (...)\u001b[0m\n\u001b[0;32m    315\u001b[0m \u001b[38;5;124;03m    (0, 2, 1, 1)\u001b[39;00m\n\u001b[0;32m    316\u001b[0m \u001b[38;5;124;03m    \"\"\"\u001b[39;00m\n\u001b[1;32m--> 317\u001b[0m     y_type, y_true, y_pred \u001b[38;5;241m=\u001b[39m \u001b[43m_check_targets\u001b[49m\u001b[43m(\u001b[49m\u001b[43my_true\u001b[49m\u001b[43m,\u001b[49m\u001b[43m \u001b[49m\u001b[43my_pred\u001b[49m\u001b[43m)\u001b[49m\n\u001b[0;32m    318\u001b[0m     \u001b[38;5;28;01mif\u001b[39;00m y_type \u001b[38;5;129;01mnot\u001b[39;00m \u001b[38;5;129;01min\u001b[39;00m (\u001b[38;5;124m\"\u001b[39m\u001b[38;5;124mbinary\u001b[39m\u001b[38;5;124m\"\u001b[39m, \u001b[38;5;124m\"\u001b[39m\u001b[38;5;124mmulticlass\u001b[39m\u001b[38;5;124m\"\u001b[39m):\n\u001b[0;32m    319\u001b[0m         \u001b[38;5;28;01mraise\u001b[39;00m \u001b[38;5;167;01mValueError\u001b[39;00m(\u001b[38;5;124m\"\u001b[39m\u001b[38;5;132;01m%s\u001b[39;00m\u001b[38;5;124m is not supported\u001b[39m\u001b[38;5;124m\"\u001b[39m \u001b[38;5;241m%\u001b[39m y_type)\n",
      "File \u001b[1;32mc:\\Users\\Maxim\\AppData\\Local\\Programs\\Python\\Python310\\lib\\site-packages\\sklearn\\metrics\\_classification.py:95\u001b[0m, in \u001b[0;36m_check_targets\u001b[1;34m(y_true, y_pred)\u001b[0m\n\u001b[0;32m     92\u001b[0m     y_type \u001b[38;5;241m=\u001b[39m {\u001b[38;5;124m\"\u001b[39m\u001b[38;5;124mmulticlass\u001b[39m\u001b[38;5;124m\"\u001b[39m}\n\u001b[0;32m     94\u001b[0m \u001b[38;5;28;01mif\u001b[39;00m \u001b[38;5;28mlen\u001b[39m(y_type) \u001b[38;5;241m>\u001b[39m \u001b[38;5;241m1\u001b[39m:\n\u001b[1;32m---> 95\u001b[0m     \u001b[38;5;28;01mraise\u001b[39;00m \u001b[38;5;167;01mValueError\u001b[39;00m(\n\u001b[0;32m     96\u001b[0m         \u001b[38;5;124m\"\u001b[39m\u001b[38;5;124mClassification metrics can\u001b[39m\u001b[38;5;124m'\u001b[39m\u001b[38;5;124mt handle a mix of \u001b[39m\u001b[38;5;132;01m{0}\u001b[39;00m\u001b[38;5;124m and \u001b[39m\u001b[38;5;132;01m{1}\u001b[39;00m\u001b[38;5;124m targets\u001b[39m\u001b[38;5;124m\"\u001b[39m\u001b[38;5;241m.\u001b[39mformat(\n\u001b[0;32m     97\u001b[0m             type_true, type_pred\n\u001b[0;32m     98\u001b[0m         )\n\u001b[0;32m     99\u001b[0m     )\n\u001b[0;32m    101\u001b[0m \u001b[38;5;66;03m# We can't have more than one value on y_type => The set is no more needed\u001b[39;00m\n\u001b[0;32m    102\u001b[0m y_type \u001b[38;5;241m=\u001b[39m y_type\u001b[38;5;241m.\u001b[39mpop()\n",
      "\u001b[1;31mValueError\u001b[0m: Classification metrics can't handle a mix of multilabel-indicator and multiclass targets"
     ]
    }
   ],
   "source": [
    "# let the model make predictions for our training data\n",
    "y_predictions = model.predict(images)\n",
    "print(images.shape)\n",
    "\n",
    "# we get a 2D numpy array with probabilities for each category\n",
    "print('before', y_predictions)\n",
    "\n",
    "# to build a confusion matrix, we have to convert it to classifications\n",
    "# this can be done by using the argmax() function to set the probability to 1 and the rest to 0\n",
    "y_predictions = np.argmax(y_predictions, axis=1)\n",
    "\n",
    "print('probabilities', y_predictions)\n",
    "print('labels', labels)\n",
    "\n",
    "# create and plot confusion matrix\n",
    "conf_matrix = confusion_matrix(labels, y_predictions)\n",
    "\n",
    "fig = plt.figure(figsize=(10, 10))\n",
    "\n",
    "ConfusionMatrixDisplay(conf_matrix, display_labels=label_names).plot(ax=plt.gca())\n",
    "\n",
    "plt.xticks(rotation=90, ha='center')\n",
    "pass"
   ]
  },
  {
   "cell_type": "code",
   "execution_count": null,
   "metadata": {},
   "outputs": [],
   "source": [
    "model = load_model"
   ]
  }
 ],
 "metadata": {
  "kernelspec": {
   "display_name": "Python 3",
   "language": "python",
   "name": "python3"
  },
  "language_info": {
   "codemirror_mode": {
    "name": "ipython",
    "version": 3
   },
   "file_extension": ".py",
   "mimetype": "text/x-python",
   "name": "python",
   "nbconvert_exporter": "python",
   "pygments_lexer": "ipython3",
   "version": "3.10.5"
  }
 },
 "nbformat": 4,
 "nbformat_minor": 2
}
